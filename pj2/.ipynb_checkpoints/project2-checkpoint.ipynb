{
 "cells": [
  {
   "cell_type": "markdown",
   "metadata": {},
   "source": [
    "# Problem 1"
   ]
  },
  {
   "cell_type": "code",
   "execution_count": 2,
   "metadata": {
    "collapsed": true
   },
   "outputs": [],
   "source": [
    "import numpy as np\n",
    "import matplotlib.pyplot as plt\n",
    "%matplotlib inline\n",
    "from sklearn.datasets import fetch_20newsgroups\n",
    "from string import punctuation\n",
    "from sklearn.feature_extraction import text\n",
    "from sklearn.feature_extraction.text import CountVectorizer\n",
    "from sklearn.feature_extraction.text import TfidfVectorizer\n",
    "from nltk.stem.snowball import SnowballStemmer\n",
    "import re\n",
    "from sklearn.feature_extraction.text import TfidfTransformer\n",
    "from sklearn.cluster import KMeans\n",
    "from sklearn import metrics\n",
    "import scipy\n",
    "from sklearn.decomposition import TruncatedSVD\n",
    "from sklearn.decomposition import NMF"
   ]
  },
  {
   "cell_type": "code",
   "execution_count": 3,
   "metadata": {
    "collapsed": true
   },
   "outputs": [],
   "source": [
    "# fetch data\n",
    "comall = ['comp.graphics','comp.os.ms-windows.misc','comp.sys.ibm.pc.hardware','comp.sys.mac.hardware']\n",
    "recall = ['rec.autos','rec.motorcycles','rec.sport.baseball','rec.sport.hockey']\n",
    "# com_train = fetch_20newsgroups(subset = 'train', categories = comall, shuffle = True, random_state = 42,remove=('headers','footers','quotes'))\n",
    "# rec_train = fetch_20newsgroups(subset = 'train', categories = recall, shuffle = True, random_state = 42,remove=('headers','footers','quotes'))\n",
    "# c_train = com_train.data + rec_train.data\n",
    "com_test = fetch_20newsgroups(subset = 'all', categories = comall, shuffle = True, random_state = 42,remove=('headers','footers','quotes'))\n",
    "rec_test = fetch_20newsgroups(subset = 'all', categories = recall, shuffle = True, random_state = 42,remove=('headers','footers','quotes'))\n",
    "c_test = com_test.data + rec_test.data\n",
    "# label_train = [1] * len(com_train.data) + [0] * len(rec_train.data)\n",
    "label_test = [0] * len(com_test.data) + [1] * len(rec_test.data)"
   ]
  },
  {
   "cell_type": "code",
   "execution_count": 4,
   "metadata": {},
   "outputs": [
    {
     "name": "stdout",
     "output_type": "stream",
     "text": [
      "The dimensions of the TF-IDF matrix with min_df = 3, exclude the stopwords (no stemming):(7882, 18174)\n"
     ]
    }
   ],
   "source": [
    "# transform the documents into TF-IDF vectors\n",
    "stop_words = text.ENGLISH_STOP_WORDS\n",
    "# stem_words = SnowballStemmer(\"english\")\n",
    "\n",
    "temp_df3 = c_test\n",
    "r = re.compile(r'[\\s{}]+'.format(re.escape(punctuation)))\n",
    "for i in range(len(temp_df3)):\n",
    "    temp_df3[i] = \" \".join([t for t in r.split(temp_df3[i])])\n",
    "    temp_df3[i] = temp_df3[i].replace('\\n','').replace('\\t','').replace('\\r','')\n",
    "    \n",
    "vectorizer = TfidfVectorizer(min_df=3, stop_words='english')\n",
    "tfidf3_test = vectorizer.fit_transform(temp_df3)\n",
    "print ('The dimensions of the TF-IDF matrix with min_df = 3, exclude the stopwords (no stemming):'+str(tfidf3_test.shape))"
   ]
  },
  {
   "cell_type": "markdown",
   "metadata": {},
   "source": [
    "# Problem 2"
   ]
  },
  {
   "cell_type": "code",
   "execution_count": 4,
   "metadata": {},
   "outputs": [
    {
     "name": "stdout",
     "output_type": "stream",
     "text": [
      "Contingency Table (Confusion Matrix): \n",
      "[[1353 2550]\n",
      " [3935   44]]\n",
      "Homogeneity Score: 0.40871\n",
      "Completeness Score: 0.44714\n",
      "V-measure: 0.42706\n",
      "Adjusted Rand Score: 0.41663\n",
      "Adjusted Mutual Info Score: 0.40866\n"
     ]
    }
   ],
   "source": [
    "# perform K-mean using k = 2\n",
    "km = KMeans(n_clusters=2, max_iter=100, n_init=1, random_state=42, verbose=0).fit(tfidf3_test)\n",
    "\n",
    "print(\"Contingency Table (Confusion Matrix): \")\n",
    "print(metrics.confusion_matrix(label_test, km.labels_))\n",
    "print(\"Homogeneity Score: %0.5f\" % metrics.homogeneity_score(label_test, km.labels_))\n",
    "print(\"Completeness Score: %0.5f\" % metrics.completeness_score(label_test, km.labels_))\n",
    "print(\"V-measure: %0.5f\" % metrics.v_measure_score(label_test, km.labels_))\n",
    "print(\"Adjusted Rand Score: %.5f\" % metrics.adjusted_rand_score(label_test, km.labels_))\n",
    "print(\"Adjusted Mutual Info Score: %.5f\" % metrics.adjusted_mutual_info_score(label_test, km.labels_))"
   ]
  },
  {
   "cell_type": "markdown",
   "metadata": {},
   "source": [
    "# Problem 3"
   ]
  },
  {
   "cell_type": "code",
   "execution_count": 5,
   "metadata": {},
   "outputs": [
    {
     "data": {
      "image/png": "[encoded data removed]",
      "text/plain": [
       "<matplotlib.figure.Figure at 0x10a9807f0>"
      ]
     },
     "metadata": {},
     "output_type": "display_data"
    }
   ],
   "source": [
    "# print('pre')\n",
    "singular_values = scipy.linalg.svdvals(tfidf3_test.toarray())\n",
    "# print('processing')\n",
    "ratio_de = np.sum(singular_values ** 2)\n",
    "ratio_en = np.zeros(1000)\n",
    "for i in range(1000):\n",
    "    top_singular = singular_values[i]\n",
    "    ratio_en[i] = top_singular * top_singular + ratio_en[i-1]\n",
    "#     print(ratio_en[i])\n",
    "ratio = ratio_en / ratio_de\n",
    "\n",
    "plt.figure()\n",
    "plt.plot(range(1, 1001), ratio*100)\n",
    "plt.ylabel('percentage')\n",
    "plt.xlabel('r')\n",
    "plt.title('the percent of variance the top r principle components can retain v.s. r')\n",
    "plt.show()"
   ]
  },
  {
   "cell_type": "code",
   "execution_count": 8,
   "metadata": {
    "scrolled": false
   },
   "outputs": [
    {
     "name": "stdout",
     "output_type": "stream",
     "text": [
      "r = 1\n",
      "Contingency Table (Confusion Matrix): \n",
      "[[1688 2215]\n",
      " [2848 1131]]\n",
      "Homogeneity Score: 0.06012\n",
      "Completeness Score: 0.06112\n",
      "V-measure: 0.06061\n",
      "Adjusted Rand Score: 0.08094\n",
      "Adjusted Mutual Info Score: 0.06003\n",
      "\n",
      "\n",
      "r = 2\n",
      "Contingency Table (Confusion Matrix): \n",
      "[[1285 2618]\n",
      " [3921   58]]\n",
      "Homogeneity Score: 0.41628\n",
      "Completeness Score: 0.45032\n",
      "V-measure: 0.43264\n",
      "Adjusted Rand Score: 0.43451\n",
      "Adjusted Mutual Info Score: 0.41623\n",
      "\n",
      "\n",
      "r = 3\n",
      "Contingency Table (Confusion Matrix): \n",
      "[[1311 2592]\n",
      " [3922   57]]\n",
      "Homogeneity Score: 0.41041\n",
      "Completeness Score: 0.44558\n",
      "V-measure: 0.42727\n",
      "Adjusted Rand Score: 0.42618\n",
      "Adjusted Mutual Info Score: 0.41036\n",
      "\n",
      "\n",
      "r = 5\n",
      "Contingency Table (Confusion Matrix): \n",
      "[[1441 2462]\n",
      " [3956   23]]\n",
      "Homogeneity Score: 0.40286\n",
      "Completeness Score: 0.44800\n",
      "V-measure: 0.42423\n",
      "Adjusted Rand Score: 0.39496\n",
      "Adjusted Mutual Info Score: 0.40280\n",
      "\n",
      "\n",
      "r = 10\n",
      "Contingency Table (Confusion Matrix): \n",
      "[[1332 2571]\n",
      " [3941   38]]\n",
      "Homogeneity Score: 0.41815\n",
      "Completeness Score: 0.45649\n",
      "V-measure: 0.43648\n",
      "Adjusted Rand Score: 0.42552\n",
      "Adjusted Mutual Info Score: 0.41810\n",
      "\n",
      "\n",
      "r = 20\n",
      "Contingency Table (Confusion Matrix): \n",
      "[[3899    4]\n",
      " [2687 1292]]\n",
      "Homogeneity Score: 0.17994\n",
      "Completeness Score: 0.27904\n",
      "V-measure: 0.21879\n",
      "Adjusted Rand Score: 0.10050\n",
      "Adjusted Mutual Info Score: 0.17986\n",
      "\n",
      "\n",
      "r = 50\n",
      "Contingency Table (Confusion Matrix): \n",
      "[[2580 1323]\n",
      " [  35 3944]]\n",
      "Homogeneity Score: 0.42259\n",
      "Completeness Score: 0.46095\n",
      "V-measure: 0.44094\n",
      "Adjusted Rand Score: 0.42950\n",
      "Adjusted Mutual Info Score: 0.42254\n",
      "\n",
      "\n",
      "r = 100\n",
      "Contingency Table (Confusion Matrix): \n",
      "[[3899    4]\n",
      " [2650 1329]]\n",
      "Homogeneity Score: 0.18602\n",
      "Completeness Score: 0.28368\n",
      "V-measure: 0.22469\n",
      "Adjusted Rand Score: 0.10655\n",
      "Adjusted Mutual Info Score: 0.18594\n",
      "\n",
      "\n",
      "r = 300\n",
      "Contingency Table (Confusion Matrix): \n",
      "[[1400 2503]\n",
      " [3949   30]]\n",
      "Homogeneity Score: 0.40732\n",
      "Completeness Score: 0.44962\n",
      "V-measure: 0.42743\n",
      "Adjusted Rand Score: 0.40588\n",
      "Adjusted Mutual Info Score: 0.40727\n",
      "\n",
      "\n"
     ]
    },
    {
     "data": {
      "image/png": "[encoded data removed]",
      "text/plain": [
       "<matplotlib.figure.Figure at 0x1a12c18278>"
      ]
     },
     "metadata": {},
     "output_type": "display_data"
    },
    {
     "name": "stdout",
     "output_type": "stream",
     "text": [
      "Best r is: 50\n"
     ]
    }
   ],
   "source": [
    "rs = [1,2,3,5,10,20,50,100,300]\n",
    "svd_3 = TruncatedSVD(n_components = 300, n_iter = 10, random_state = 42)\n",
    "LSI_3 = svd_3.fit_transform(tfidf3_test)\n",
    "# print(LSI_3)\n",
    "\n",
    "#Use V-measure to find the best r\n",
    "vm = []\n",
    "for r in rs:\n",
    "    LSI_use = LSI_3[:, :r]\n",
    "    km = KMeans(n_clusters=2, max_iter=100, n_init=1, random_state=42, verbose=0).fit(LSI_use)\n",
    "    print('r = %d' %r)\n",
    "    print(\"Contingency Table (Confusion Matrix): \")\n",
    "    print(metrics.confusion_matrix(label_test, km.labels_))\n",
    "    print(\"Homogeneity Score: %0.5f\" % metrics.homogeneity_score(label_test, km.labels_))\n",
    "    print(\"Completeness Score: %0.5f\" % metrics.completeness_score(label_test, km.labels_))\n",
    "    print(\"V-measure: %0.5f\" % metrics.v_measure_score(label_test, km.labels_))\n",
    "    vm.append(metrics.v_measure_score(label_test, km.labels_))\n",
    "    print(\"Adjusted Rand Score: %.5f\" % metrics.adjusted_rand_score(label_test, km.labels_))\n",
    "    print(\"Adjusted Mutual Info Score: %.5f\" % metrics.adjusted_mutual_info_score(label_test, km.labels_))\n",
    "    print('\\n')\n",
    "\n",
    "#plot V-measure vs r figure\n",
    "plt.figure()\n",
    "plt.plot(rs, vm)\n",
    "plt.ylabel('V-measure Score')\n",
    "plt.xlabel('r')\n",
    "plt.title('V-measure score v.s. r (LSI)')\n",
    "plt.show()\n",
    "print('Best r is: %d' %rs[np.argmax(vm)])"
   ]
  },
  {
   "cell_type": "code",
   "execution_count": 9,
   "metadata": {
    "scrolled": false
   },
   "outputs": [
    {
     "name": "stdout",
     "output_type": "stream",
     "text": [
      "r = 1\n",
      "Contingency Table (Confusion Matrix): \n",
      "[[1688 2215]\n",
      " [2848 1131]]\n",
      "Homogeneity Score: 0.06012\n",
      "Completeness Score: 0.06112\n",
      "V-measure: 0.06061\n",
      "Adjusted Rand Score: 0.08094\n",
      "Adjusted Mutual Info Score: 0.06003\n",
      "\n",
      "\n",
      "r = 2\n",
      "Contingency Table (Confusion Matrix): \n",
      "[[1256 2647]\n",
      " [3921   58]]\n",
      "Homogeneity Score: 0.42364\n",
      "Completeness Score: 0.45656\n",
      "V-measure: 0.43948\n",
      "Adjusted Rand Score: 0.44426\n",
      "Adjusted Mutual Info Score: 0.42359\n",
      "\n",
      "\n",
      "r = 3\n",
      "Contingency Table (Confusion Matrix): \n",
      "[[1517 2386]\n",
      " [3946   33]]\n",
      "Homogeneity Score: 0.37731\n",
      "Completeness Score: 0.42412\n",
      "V-measure: 0.39935\n",
      "Adjusted Rand Score: 0.36801\n",
      "Adjusted Mutual Info Score: 0.37725\n",
      "\n",
      "\n",
      "r = 5\n",
      "Contingency Table (Confusion Matrix): \n",
      "[[3175  728]\n",
      " [3976    3]]\n",
      "Homogeneity Score: 0.09735\n",
      "Completeness Score: 0.21846\n",
      "V-measure: 0.13468\n",
      "Adjusted Rand Score: 0.03738\n",
      "Adjusted Mutual Info Score: 0.09726\n",
      "\n",
      "\n",
      "r = 10\n",
      "Contingency Table (Confusion Matrix): \n",
      "[[3559  344]\n",
      " [3959   20]]\n",
      "Homogeneity Score: 0.03389\n",
      "Completeness Score: 0.12552\n",
      "V-measure: 0.05336\n",
      "Adjusted Rand Score: 0.00834\n",
      "Adjusted Mutual Info Score: 0.03380\n",
      "\n",
      "\n",
      "r = 20\n",
      "Contingency Table (Confusion Matrix): \n",
      "[[3600  303]\n",
      " [3954   25]]\n",
      "Homogeneity Score: 0.02689\n",
      "Completeness Score: 0.10771\n",
      "V-measure: 0.04304\n",
      "Adjusted Rand Score: 0.00633\n",
      "Adjusted Mutual Info Score: 0.02680\n",
      "\n",
      "\n",
      "r = 50\n",
      "Contingency Table (Confusion Matrix): \n",
      "[[ 584 3319]\n",
      " [ 643 3336]]\n",
      "Homogeneity Score: 0.00020\n",
      "Completeness Score: 0.00032\n",
      "V-measure: 0.00024\n",
      "Adjusted Rand Score: -0.00008\n",
      "Adjusted Mutual Info Score: 0.00011\n",
      "\n",
      "\n",
      "r = 100\n",
      "Contingency Table (Confusion Matrix): \n",
      "[[ 169 3734]\n",
      " [   4 3975]]\n",
      "Homogeneity Score: 0.01909\n",
      "Completeness Score: 0.12539\n",
      "V-measure: 0.03314\n",
      "Adjusted Rand Score: 0.00256\n",
      "Adjusted Mutual Info Score: 0.01900\n",
      "\n",
      "\n",
      "r = 300\n",
      "Contingency Table (Confusion Matrix): \n",
      "[[3646  257]\n",
      " [3975    4]]\n",
      "Homogeneity Score: 0.03056\n",
      "Completeness Score: 0.14569\n",
      "V-measure: 0.05053\n",
      "Adjusted Rand Score: 0.00536\n",
      "Adjusted Mutual Info Score: 0.03047\n",
      "\n",
      "\n"
     ]
    },
    {
     "data": {
      "image/png": "[encoded data removed]",
      "text/plain": [
       "<matplotlib.figure.Figure at 0x10b3f5cc0>"
      ]
     },
     "metadata": {},
     "output_type": "display_data"
    },
    {
     "name": "stdout",
     "output_type": "stream",
     "text": [
      "Best r is: 2\n"
     ]
    }
   ],
   "source": [
    "#Use V-measure to find the best r\n",
    "vm = []\n",
    "for r in rs:\n",
    "    nmf_3 = NMF(n_components=r, init='random', random_state=42)\n",
    "    nmf_use = nmf_3.fit_transform(tfidf3_test)\n",
    "    km = KMeans(n_clusters=2, max_iter=100, n_init=1, random_state=42, verbose=0).fit(nmf_use)\n",
    "    print('r = %d' %r)\n",
    "    print(\"Contingency Table (Confusion Matrix): \")\n",
    "    print(metrics.confusion_matrix(label_test, km.labels_))\n",
    "    print(\"Homogeneity Score: %0.5f\" % metrics.homogeneity_score(label_test, km.labels_))\n",
    "    print(\"Completeness Score: %0.5f\" % metrics.completeness_score(label_test, km.labels_))\n",
    "    print(\"V-measure: %0.5f\" % metrics.v_measure_score(label_test, km.labels_))\n",
    "    vm.append(metrics.v_measure_score(label_test, km.labels_))\n",
    "    print(\"Adjusted Rand Score: %.5f\" % metrics.adjusted_rand_score(label_test, km.labels_))\n",
    "    print(\"Adjusted Mutual Info Score: %.5f\" % metrics.adjusted_mutual_info_score(label_test, km.labels_))\n",
    "    print('\\n')\n",
    "    \n",
    "#plot V-measure vs r figure\n",
    "plt.figure()\n",
    "plt.plot(rs, vm)\n",
    "plt.ylabel('V-measure Score')\n",
    "plt.xlabel('r')\n",
    "plt.title('V-measure score v.s. r (LSI)')\n",
    "plt.show()\n",
    "print('Best r is: %d' %rs[np.argmax(vm)])"
   ]
  },
  {
   "cell_type": "code",
   "execution_count": null,
   "metadata": {
    "collapsed": true
   },
   "outputs": [],
   "source": []
  }
 ],
 "metadata": {
  "kernelspec": {
   "display_name": "Python 3",
   "language": "python",
   "name": "python3"
  },
  "language_info": {
   "codemirror_mode": {
    "name": "ipython",
    "version": 3
   },
   "file_extension": ".py",
   "mimetype": "text/x-python",
   "name": "python",
   "nbconvert_exporter": "python",
   "pygments_lexer": "ipython3",
   "version": "3.6.3"
  }
 },
 "nbformat": 4,
 "nbformat_minor": 2
}
