{
 "cells": [
  {
   "cell_type": "markdown",
   "metadata": {},
   "source": [
    "# Problem 1"
   ]
  },
  {
   "cell_type": "code",
   "execution_count": 17,
   "metadata": {},
   "outputs": [],
   "source": [
    "import numpy as np\n",
    "import matplotlib.pyplot as plt\n",
    "%matplotlib inline\n",
    "from sklearn.datasets import fetch_20newsgroups\n",
    "from string import punctuation\n",
    "from sklearn.feature_extraction import text\n",
    "from sklearn.feature_extraction.text import CountVectorizer\n",
    "from sklearn.feature_extraction.text import TfidfVectorizer\n",
    "from nltk.stem.snowball import SnowballStemmer\n",
    "import re\n",
    "from sklearn.feature_extraction.text import TfidfTransformer\n",
    "from sklearn.cluster import KMeans\n",
    "from sklearn import metrics\n",
    "import scipy\n",
    "from sklearn.decomposition import TruncatedSVD\n",
    "from sklearn.decomposition import NMF"
   ]
  },
  {
   "cell_type": "code",
   "execution_count": 2,
   "metadata": {
    "collapsed": true
   },
   "outputs": [],
   "source": [
    "# fetch data\n",
    "comall = ['comp.graphics','comp.os.ms-windows.misc','comp.sys.ibm.pc.hardware','comp.sys.mac.hardware']\n",
    "recall = ['rec.autos','rec.motorcycles','rec.sport.baseball','rec.sport.hockey']\n",
    "com_train = fetch_20newsgroups(subset = 'train', categories = comall, shuffle = True, random_state = 42,remove=('headers','footers','quotes'))\n",
    "rec_train = fetch_20newsgroups(subset = 'train', categories = recall, shuffle = True, random_state = 42,remove=('headers','footers','quotes'))\n",
    "c_train = com_train.data + rec_train.data\n",
    "com_test = fetch_20newsgroups(subset = 'test', categories = comall, shuffle = True, random_state = 42,remove=('headers','footers','quotes'))\n",
    "rec_test = fetch_20newsgroups(subset = 'test', categories = recall, shuffle = True, random_state = 42,remove=('headers','footers','quotes'))\n",
    "c_test = com_test.data + rec_test.data\n",
    "label_train = [1] * len(com_train.data) + [0] * len(rec_train.data)\n",
    "label_test = [1] * len(com_test.data) + [0] * len(rec_test.data)"
   ]
  },
  {
   "cell_type": "code",
   "execution_count": 3,
   "metadata": {},
   "outputs": [
    {
     "name": "stdout",
     "output_type": "stream",
     "text": [
      "The dimensions of the TF-IDF matrix with min_df = 3, exclude the stopwords (no stemming):(3150, 8998)\n"
     ]
    }
   ],
   "source": [
    "# transform the documents into TF-IDF vectors\n",
    "stop_words = text.ENGLISH_STOP_WORDS\n",
    "# stem_words = SnowballStemmer(\"english\")\n",
    "\n",
    "temp_df3 = c_test\n",
    "r = re.compile(r'[\\s{}]+'.format(re.escape(punctuation)))\n",
    "for i in range(len(temp_df3)):\n",
    "    temp_df3[i] = \" \".join([t for t in r.split(temp_df3[i])])\n",
    "    temp_df3[i] = temp_df3[i].replace('\\n','').replace('\\t','').replace('\\r','')\n",
    "    \n",
    "vectorizer = TfidfVectorizer(min_df=3, stop_words='english')\n",
    "tfidf3_test = vectorizer.fit_transform(temp_df3)\n",
    "print ('The dimensions of the TF-IDF matrix with min_df = 3, exclude the stopwords (no stemming):'+str(tfidf3_test.shape))"
   ]
  },
  {
   "cell_type": "markdown",
   "metadata": {},
   "source": [
    "# Problem 2"
   ]
  },
  {
   "cell_type": "code",
   "execution_count": 11,
   "metadata": {},
   "outputs": [
    {
     "name": "stdout",
     "output_type": "stream",
     "text": [
      "Contingency Table (Confusion Matrix): \n",
      "[[  12 1578]\n",
      " [1012  548]]\n",
      "Homogeneity Score: 0.41436\n",
      "Completeness Score: 0.45541\n",
      "V-measure: 0.43392\n",
      "Adjusted Rand Score: 0.41514\n",
      "Adjusted Mutual Info Score: 0.41423\n"
     ]
    }
   ],
   "source": [
    "# perform K-mean using k = 2\n",
    "km = KMeans(n_clusters=2, max_iter=100, n_init=1, random_state=42, verbose=0).fit(tfidf3_test)\n",
    "\n",
    "print(\"Contingency Table (Confusion Matrix): \")\n",
    "print(metrics.confusion_matrix(label_test, km.labels_))\n",
    "print(\"Homogeneity Score: %0.5f\" % metrics.homogeneity_score(label_test, km.labels_))\n",
    "print(\"Completeness Score: %0.5f\" % metrics.completeness_score(label_test, km.labels_))\n",
    "print(\"V-measure: %0.5f\" % metrics.v_measure_score(label_test, km.labels_))\n",
    "print(\"Adjusted Rand Score: %.5f\" % metrics.adjusted_rand_score(label_test, km.labels_))\n",
    "print(\"Adjusted Mutual Info Score: %.5f\" % metrics.adjusted_mutual_info_score(label_test, km.labels_))"
   ]
  },
  {
   "cell_type": "markdown",
   "metadata": {},
   "source": [
    "# Problem 3"
   ]
  },
  {
   "cell_type": "code",
   "execution_count": 5,
   "metadata": {},
   "outputs": [
    {
     "data": {
      "image/png": "[encoded data removed]",
      "text/plain": [
       "<matplotlib.figure.Figure at 0x112305d68>"
      ]
     },
     "metadata": {},
     "output_type": "display_data"
    }
   ],
   "source": [
    "singular_values = scipy.linalg.svdvals(tfidf3_test.toarray())\n",
    "ratio_de = np.sum(singular_values ** 2)\n",
    "ratio_en = np.zeros(1000)\n",
    "for i in range(1000):\n",
    "    top_singular = singular_values[i]\n",
    "    ratio_en[i] = top_singular * top_singular + ratio_en[i-1]\n",
    "#     print(ratio_en[i])\n",
    "ratio = ratio_en / ratio_de\n",
    "\n",
    "plt.figure()\n",
    "plt.plot(range(1, 1001), ratio*100)\n",
    "plt.ylabel('percentage')\n",
    "plt.xlabel('r')\n",
    "plt.title('the percent of variance the top r principle components can retain v.s. r')\n",
    "plt.show()"
   ]
  },
  {
   "cell_type": "code",
   "execution_count": 19,
   "metadata": {},
   "outputs": [
    {
     "name": "stdout",
     "output_type": "stream",
     "text": [
      "r = 1\n",
      "Contingency Table (Confusion Matrix): \n",
      "[[1056  534]\n",
      " [ 651  909]]\n",
      "Homogeneity Score: 0.04473\n",
      "Completeness Score: 0.04495\n",
      "V-measure: 0.04484\n",
      "Adjusted Rand Score: 0.06102\n",
      "Adjusted Mutual Info Score: 0.04451\n",
      "\n",
      "\n",
      "r = 2\n",
      "Contingency Table (Confusion Matrix): \n",
      "[[1556   34]\n",
      " [ 441 1119]]\n",
      "Homogeneity Score: 0.44687\n",
      "Completeness Score: 0.47156\n",
      "V-measure: 0.45888\n",
      "Adjusted Rand Score: 0.48763\n",
      "Adjusted Mutual Info Score: 0.44674\n",
      "\n",
      "\n",
      "r = 3\n",
      "Contingency Table (Confusion Matrix): \n",
      "[[1059  531]\n",
      " [1556    4]]\n",
      "Homogeneity Score: 0.18076\n",
      "Completeness Score: 0.27496\n",
      "V-measure: 0.21812\n",
      "Adjusted Rand Score: 0.10548\n",
      "Adjusted Mutual Info Score: 0.18057\n",
      "\n",
      "\n",
      "r = 5\n",
      "Contingency Table (Confusion Matrix): \n",
      "[[1148  442]\n",
      " [1558    2]]\n",
      "Homogeneity Score: 0.14931\n",
      "Completeness Score: 0.25447\n",
      "V-measure: 0.18820\n",
      "Adjusted Rand Score: 0.07263\n",
      "Adjusted Mutual Info Score: 0.14912\n",
      "\n",
      "\n",
      "r = 10\n",
      "Contingency Table (Confusion Matrix): \n",
      "[[1115  475]\n",
      " [1558    2]]\n",
      "Homogeneity Score: 0.16234\n",
      "Completeness Score: 0.26463\n",
      "V-measure: 0.20123\n",
      "Adjusted Rand Score: 0.08437\n",
      "Adjusted Mutual Info Score: 0.16214\n",
      "\n",
      "\n",
      "r = 20\n",
      "Contingency Table (Confusion Matrix): \n",
      "[[1463  127]\n",
      " [1560    0]]\n",
      "Homogeneity Score: 0.04097\n",
      "Completeness Score: 0.16806\n",
      "V-measure: 0.06588\n",
      "Adjusted Rand Score: 0.00493\n",
      "Adjusted Mutual Info Score: 0.04075\n",
      "\n",
      "\n",
      "r = 50\n",
      "Contingency Table (Confusion Matrix): \n",
      "[[1062  528]\n",
      " [1558    2]]\n",
      "Homogeneity Score: 0.18381\n",
      "Completeness Score: 0.28117\n",
      "V-measure: 0.22229\n",
      "Adjusted Rand Score: 0.10507\n",
      "Adjusted Mutual Info Score: 0.18362\n",
      "\n",
      "\n",
      "r = 100\n",
      "Contingency Table (Confusion Matrix): \n",
      "[[1075  515]\n",
      " [1558    2]]\n",
      "Homogeneity Score: 0.17848\n",
      "Completeness Score: 0.27708\n",
      "V-measure: 0.21711\n",
      "Adjusted Rand Score: 0.09978\n",
      "Adjusted Mutual Info Score: 0.17829\n",
      "\n",
      "\n",
      "r = 300\n",
      "Contingency Table (Confusion Matrix): \n",
      "[[1576   14]\n",
      " [ 519 1041]]\n",
      "Homogeneity Score: 0.42872\n",
      "Completeness Score: 0.46603\n",
      "V-measure: 0.44660\n",
      "Adjusted Rand Score: 0.43753\n",
      "Adjusted Mutual Info Score: 0.42859\n",
      "\n",
      "\n"
     ]
    }
   ],
   "source": [
    "rs = [1,2,3,5,10,20,50,100,300]\n",
    "svd_3 = TruncatedSVD(n_components = 300, n_iter = 10, random_state = 42)\n",
    "LSI_3 = svd_3.fit_transform(tfidf3_test)\n",
    "# print(LSI_3)\n",
    "\n",
    "for r in rs:\n",
    "    LSI_use = LSI_3[:, :r]\n",
    "    km = KMeans(n_clusters=2, max_iter=100, n_init=1, random_state=42, verbose=0).fit(LSI_use)\n",
    "    print('r = %d' %r)\n",
    "    print(\"Contingency Table (Confusion Matrix): \")\n",
    "    print(metrics.confusion_matrix(label_test, km.labels_))\n",
    "    print(\"Homogeneity Score: %0.5f\" % metrics.homogeneity_score(label_test, km.labels_))\n",
    "    print(\"Completeness Score: %0.5f\" % metrics.completeness_score(label_test, km.labels_))\n",
    "    print(\"V-measure: %0.5f\" % metrics.v_measure_score(label_test, km.labels_))\n",
    "    print(\"Adjusted Rand Score: %.5f\" % metrics.adjusted_rand_score(label_test, km.labels_))\n",
    "    print(\"Adjusted Mutual Info Score: %.5f\" % metrics.adjusted_mutual_info_score(label_test, km.labels_))\n",
    "    print('\\n')"
   ]
  },
  {
   "cell_type": "code",
   "execution_count": 20,
   "metadata": {},
   "outputs": [
    {
     "name": "stdout",
     "output_type": "stream",
     "text": [
      "r = 1\n",
      "Contingency Table (Confusion Matrix): \n",
      "[[1056  534]\n",
      " [ 651  909]]\n",
      "Homogeneity Score: 0.04473\n",
      "Completeness Score: 0.04495\n",
      "V-measure: 0.04484\n",
      "Adjusted Rand Score: 0.06102\n",
      "Adjusted Mutual Info Score: 0.04451\n",
      "\n",
      "\n",
      "r = 2\n",
      "Contingency Table (Confusion Matrix): \n",
      "[[ 677  913]\n",
      " [1515   45]]\n",
      "Homogeneity Score: 0.29620\n",
      "Completeness Score: 0.33418\n",
      "V-measure: 0.31405\n",
      "Adjusted Rand Score: 0.29312\n",
      "Adjusted Mutual Info Score: 0.29604\n",
      "\n",
      "\n",
      "r = 3\n",
      "Contingency Table (Confusion Matrix): \n",
      "[[1237  353]\n",
      " [1559    1]]\n",
      "Homogeneity Score: 0.11769\n",
      "Completeness Score: 0.23209\n",
      "V-measure: 0.15618\n",
      "Adjusted Rand Score: 0.04561\n",
      "Adjusted Mutual Info Score: 0.11749\n",
      "\n",
      "\n",
      "r = 5\n",
      "Contingency Table (Confusion Matrix): \n",
      "[[ 594  996]\n",
      " [1335  225]]\n",
      "Homogeneity Score: 0.18725\n",
      "Completeness Score: 0.19439\n",
      "V-measure: 0.19075\n",
      "Adjusted Rand Score: 0.23016\n",
      "Adjusted Mutual Info Score: 0.18707\n",
      "\n",
      "\n",
      "r = 10\n",
      "Contingency Table (Confusion Matrix): \n",
      "[[ 316 1274]\n",
      " [   0 1560]]\n",
      "Homogeneity Score: 0.10688\n",
      "Completeness Score: 0.22739\n",
      "V-measure: 0.14541\n",
      "Adjusted Rand Score: 0.03636\n",
      "Adjusted Mutual Info Score: 0.10667\n",
      "\n",
      "\n",
      "r = 20\n",
      "Contingency Table (Confusion Matrix): \n",
      "[[1574   16]\n",
      " [1452  108]]\n",
      "Homogeneity Score: 0.01859\n",
      "Completeness Score: 0.07765\n",
      "V-measure: 0.03000\n",
      "Adjusted Rand Score: 0.00449\n",
      "Adjusted Mutual Info Score: 0.01836\n",
      "\n",
      "\n",
      "r = 50\n",
      "Contingency Table (Confusion Matrix): \n",
      "[[1456  134]\n",
      " [1426  134]]\n",
      "Homogeneity Score: 0.00001\n",
      "Completeness Score: 0.00001\n",
      "V-measure: 0.00001\n",
      "Adjusted Rand Score: -0.00007\n",
      "Adjusted Mutual Info Score: -0.00022\n",
      "\n",
      "\n",
      "r = 100\n",
      "Contingency Table (Confusion Matrix): \n",
      "[[   1 1589]\n",
      " [  26 1534]]\n",
      "Homogeneity Score: 0.00677\n",
      "Completeness Score: 0.09511\n",
      "V-measure: 0.01264\n",
      "Adjusted Rand Score: 0.00055\n",
      "Adjusted Mutual Info Score: 0.00654\n",
      "\n",
      "\n",
      "r = 300\n",
      "Contingency Table (Confusion Matrix): \n",
      "[[1566   24]\n",
      " [1482   78]]\n",
      "Homogeneity Score: 0.00736\n",
      "Completeness Score: 0.03568\n",
      "V-measure: 0.01220\n",
      "Adjusted Rand Score: 0.00180\n",
      "Adjusted Mutual Info Score: 0.00713\n",
      "\n",
      "\n"
     ]
    }
   ],
   "source": [
    "for r in rs:\n",
    "    nmf_3 = NMF(n_components=r, init='random', random_state=42)\n",
    "    nmf_use = nmf_3.fit_transform(tfidf3_test)\n",
    "    km = KMeans(n_clusters=2, max_iter=100, n_init=1, random_state=42, verbose=0).fit(nmf_use)\n",
    "    print('r = %d' %r)\n",
    "    print(\"Contingency Table (Confusion Matrix): \")\n",
    "    print(metrics.confusion_matrix(label_test, km.labels_))\n",
    "    print(\"Homogeneity Score: %0.5f\" % metrics.homogeneity_score(label_test, km.labels_))\n",
    "    print(\"Completeness Score: %0.5f\" % metrics.completeness_score(label_test, km.labels_))\n",
    "    print(\"V-measure: %0.5f\" % metrics.v_measure_score(label_test, km.labels_))\n",
    "    print(\"Adjusted Rand Score: %.5f\" % metrics.adjusted_rand_score(label_test, km.labels_))\n",
    "    print(\"Adjusted Mutual Info Score: %.5f\" % metrics.adjusted_mutual_info_score(label_test, km.labels_))\n",
    "    print('\\n')"
   ]
  },
  {
   "cell_type": "code",
   "execution_count": null,
   "metadata": {
    "collapsed": true
   },
   "outputs": [],
   "source": []
  }
 ],
 "metadata": {
  "kernelspec": {
   "display_name": "Python 3",
   "language": "python",
   "name": "python3"
  },
  "language_info": {
   "codemirror_mode": {
    "name": "ipython",
    "version": 3
   },
   "file_extension": ".py",
   "mimetype": "text/x-python",
   "name": "python",
   "nbconvert_exporter": "python",
   "pygments_lexer": "ipython3",
   "version": "3.6.3"
  }
 },
 "nbformat": 4,
 "nbformat_minor": 2
}
